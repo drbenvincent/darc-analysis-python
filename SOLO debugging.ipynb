{
 "cells": [
  {
   "cell_type": "markdown",
   "metadata": {},
   "source": [
    "# SOLO models: debugging\n",
    "This notebook is to examine operation of models based upon a single data file, in order to evaluate how well the models work etc."
   ]
  },
  {
   "cell_type": "code",
   "execution_count": null,
   "metadata": {},
   "outputs": [],
   "source": [
    "# file handling\n",
    "from glob import glob\n",
    "import os\n",
    "\n",
    "# data + modelling\n",
    "import math\n",
    "import numpy as np\n",
    "import pandas as pd\n",
    "import pymc3 as pm\n",
    "\n",
    "# plotting\n",
    "import seaborn as sns\n",
    "%config InlineBackend.figure_format = 'retina'\n",
    "import matplotlib.pyplot as plt\n",
    "\n",
    "# set up plotting preferences\n",
    "plt.style.use('seaborn-darkgrid')\n",
    "\n",
    "SMALL_SIZE = 16\n",
    "MEDIUM_SIZE = 18\n",
    "BIGGER_SIZE = 22\n",
    "\n",
    "plt.rc('font', size=SMALL_SIZE)          # controls default text sizes\n",
    "plt.rc('axes', titlesize=SMALL_SIZE)     # fontsize of the axes title\n",
    "plt.rc('axes', labelsize=MEDIUM_SIZE)    # fontsize of the x and y labels\n",
    "plt.rc('xtick', labelsize=SMALL_SIZE)    # fontsize of the tick labels\n",
    "plt.rc('ytick', labelsize=SMALL_SIZE)    # fontsize of the tick labels\n",
    "plt.rc('legend', fontsize=SMALL_SIZE)    # legend fontsize\n",
    "plt.rc('figure', titlesize=BIGGER_SIZE)  # fontsize of the figure title\n",
    "\n",
    "%matplotlib inline\n",
    "# %matplotlib notebook"
   ]
  },
  {
   "cell_type": "code",
   "execution_count": null,
   "metadata": {},
   "outputs": [],
   "source": [
    "# autoreload imported modules. Convenient while I'm developing the code.\n",
    "%load_ext autoreload\n",
    "%autoreload 2"
   ]
  },
  {
   "cell_type": "markdown",
   "metadata": {},
   "source": [
    "## Import the models and other stuff we need"
   ]
  },
  {
   "cell_type": "code",
   "execution_count": null,
   "metadata": {},
   "outputs": [],
   "source": [
    "from models_solo import *\n",
    "from df_data import *"
   ]
  },
  {
   "cell_type": "markdown",
   "metadata": {},
   "source": [
    "# Data import\n",
    "For more info on this, see the **Data preparation** notebook."
   ]
  },
  {
   "cell_type": "code",
   "execution_count": null,
   "metadata": {},
   "outputs": [],
   "source": [
    "files = glob('data/non_parametric/*.txt')"
   ]
  },
  {
   "cell_type": "markdown",
   "metadata": {},
   "source": [
    "## Step 1: create experiment level metadata"
   ]
  },
  {
   "cell_type": "code",
   "execution_count": null,
   "metadata": {},
   "outputs": [],
   "source": [
    "import os as os\n",
    "from collections import namedtuple\n",
    "\n",
    "def parse_filename(fname):\n",
    "    \"\"\"Extract experiment meta data from a filename. Return as a named tuple \n",
    "    where the fieldname will become the column header in the experiment meta data\n",
    "    table.\"\"\"\n",
    "    path, file = os.path.split(fname)\n",
    "    initials = file.split('-')[0]\n",
    "    domain = file.split('-')[1]\n",
    "    Metadata = namedtuple('Metadata', ['filename', 'initials', 'domain'])\n",
    "    return Metadata(filename = fname, initials=initials, domain=domain)\n",
    "\n",
    "expt_data = build_metadata(files, parse_filename)\n",
    "expt_data.head()"
   ]
  },
  {
   "cell_type": "markdown",
   "metadata": {},
   "source": [
    "## Step 2: Import raw behavioural data"
   ]
  },
  {
   "cell_type": "code",
   "execution_count": null,
   "metadata": {},
   "outputs": [],
   "source": [
    "raw_data = import_raw_data(expt_data['filename'])\n",
    "raw_data.head()"
   ]
  },
  {
   "cell_type": "markdown",
   "metadata": {},
   "source": [
    "## Select one data file to examine\n",
    "We are doing things a little differently here. The focus of this notebook is debugging, so we are going to focus on individual raw data files and the corresponding parameter estimates."
   ]
  },
  {
   "cell_type": "code",
   "execution_count": null,
   "metadata": {},
   "outputs": [],
   "source": [
    "data = raw_data[raw_data['file_index'] == 0]\n",
    "data.head()"
   ]
  },
  {
   "cell_type": "markdown",
   "metadata": {},
   "source": [
    "# Parameter estimation: inspect results from multiple models\n",
    "Create a simple custom visualisation function that displays diagnostic plots inside this notebook."
   ]
  },
  {
   "cell_type": "code",
   "execution_count": null,
   "metadata": {},
   "outputs": [],
   "source": [
    "def plot_stuff(model, data):\n",
    "    \"\"\"Plot discount rates and diagnostic stuff. Plot target is inline in the notebook, not do disc.\"\"\"\n",
    "    fig, ax = plt.subplots(figsize=(12, 8))\n",
    "    discount_function_plotter(ax, [model], data, 'temp', 'misc_participant', export=False)\n",
    "    plt.show()\n",
    "    \n",
    "    trace_df = pm.trace_to_dataframe(model.trace, varnames=model.df_params)\n",
    "    sns.pairplot(trace_df)\n",
    "    pm.traceplot(model.trace, varnames=model.df_params)\n",
    "    pm.autocorrplot(model.trace, varnames=model.df_params)\n",
    "    pm.forestplot(model.trace, varnames=model.df_params)"
   ]
  },
  {
   "cell_type": "markdown",
   "metadata": {},
   "source": [
    "## Coinflip model"
   ]
  },
  {
   "cell_type": "code",
   "execution_count": null,
   "metadata": {},
   "outputs": [],
   "source": [
    "c = Coinflip()\n",
    "c.sample_posterior(data, nsamples=2000)\n",
    "plot_stuff(c, data)"
   ]
  },
  {
   "cell_type": "markdown",
   "metadata": {},
   "source": [
    "## Exponential"
   ]
  },
  {
   "cell_type": "code",
   "execution_count": null,
   "metadata": {},
   "outputs": [],
   "source": [
    "e = Exponential()\n",
    "e.sample_posterior(data, nsamples=2000, target_accept=.95, tune=2000)\n",
    "\n",
    "plot_stuff(e, data)"
   ]
  },
  {
   "cell_type": "markdown",
   "metadata": {},
   "source": [
    "## Hyperbolic model"
   ]
  },
  {
   "cell_type": "code",
   "execution_count": null,
   "metadata": {},
   "outputs": [],
   "source": [
    "h = Hyperbolic()\n",
    "h.sample_posterior(data, nsamples=2000, target_accept=.95, tune=2000)\n",
    "\n",
    "plot_stuff(h, data)"
   ]
  },
  {
   "cell_type": "markdown",
   "metadata": {},
   "source": [
    "## Hyperbolic with magnitude effect"
   ]
  },
  {
   "cell_type": "code",
   "execution_count": null,
   "metadata": {},
   "outputs": [],
   "source": [
    "hma = HyperbolicMagnitudeEffect()\n",
    "hma.sample_posterior(data, nsamples=2000, target_accept=.95, tune=2000)\n",
    "\n",
    "plot_stuff(hma, data)"
   ]
  },
  {
   "cell_type": "markdown",
   "metadata": {},
   "source": [
    "## HyperboloidA"
   ]
  },
  {
   "cell_type": "code",
   "execution_count": null,
   "metadata": {
    "scrolled": false
   },
   "outputs": [],
   "source": [
    "ha = HyperboloidA()\n",
    "ha.sample_posterior(data, nsamples=2000, target_accept=.95, tune=2000)\n",
    "\n",
    "plot_stuff(ha, data)"
   ]
  },
  {
   "cell_type": "markdown",
   "metadata": {},
   "source": [
    "## HyperboloidB"
   ]
  },
  {
   "cell_type": "code",
   "execution_count": null,
   "metadata": {
    "scrolled": false
   },
   "outputs": [],
   "source": [
    "hb = HyperboloidB()\n",
    "hb.sample_posterior(data, nsamples=2000, target_accept=.95, tune=2000)\n",
    "\n",
    "plot_stuff(hb, data)"
   ]
  },
  {
   "cell_type": "markdown",
   "metadata": {},
   "source": [
    "## Hyperbolic log"
   ]
  },
  {
   "cell_type": "code",
   "execution_count": null,
   "metadata": {},
   "outputs": [],
   "source": [
    "hl = HyperbolicLog()\n",
    "hl.sample_posterior(data, nsamples=200, target_accept=.95, tune=500)\n",
    "\n",
    "plot_stuff(hl, data)"
   ]
  },
  {
   "cell_type": "markdown",
   "metadata": {},
   "source": [
    "## BetaDelta"
   ]
  },
  {
   "cell_type": "code",
   "execution_count": null,
   "metadata": {
    "scrolled": false
   },
   "outputs": [],
   "source": [
    "bd = BetaDelta()\n",
    "bd.sample_posterior(data, nsamples=2000, target_accept=.95, tune=2000)\n",
    "\n",
    "plot_stuff(bd, data)"
   ]
  },
  {
   "cell_type": "markdown",
   "metadata": {},
   "source": [
    "## DoubleExponential"
   ]
  },
  {
   "cell_type": "code",
   "execution_count": null,
   "metadata": {
    "scrolled": false
   },
   "outputs": [],
   "source": [
    "data = get_data_df_for_id_num(alldata, 0)\n",
    "\n",
    "de = DoubleExponential()\n",
    "de.sample_posterior(data, nsamples=2000, target_accept=.95, tune=2000)\n",
    "\n",
    "plot_stuff(de, data)"
   ]
  },
  {
   "cell_type": "markdown",
   "metadata": {},
   "source": [
    "## ConstantSensitivity"
   ]
  },
  {
   "cell_type": "code",
   "execution_count": null,
   "metadata": {
    "scrolled": false
   },
   "outputs": [],
   "source": [
    "cs = ConstantSensitivity()\n",
    "cs.sample_posterior(data, nsamples=2000, target_accept=.95, tune=2000)\n",
    "\n",
    "plot_stuff(cs, data)"
   ]
  },
  {
   "cell_type": "markdown",
   "metadata": {},
   "source": [
    "## Exponential Power"
   ]
  },
  {
   "cell_type": "code",
   "execution_count": null,
   "metadata": {
    "scrolled": false
   },
   "outputs": [],
   "source": [
    "ep = ExponentialPower()\n",
    "ep.sample_posterior(data, nsamples=2000, target_accept=.95, tune=2000)\n",
    "\n",
    "plot_stuff(ep, data)"
   ]
  },
  {
   "cell_type": "markdown",
   "metadata": {},
   "source": [
    "## Exponential Log"
   ]
  },
  {
   "cell_type": "code",
   "execution_count": null,
   "metadata": {},
   "outputs": [],
   "source": [
    "el = ExponentialLog()\n",
    "el.sample_posterior(data, nsamples=2000, tune=2000)\n",
    "\n",
    "\n",
    "plot_stuff(el, data)"
   ]
  },
  {
   "cell_type": "markdown",
   "metadata": {},
   "source": [
    "# Below are Heuristic models\n",
    "As in models not based upon discounted utility. These are in-progress."
   ]
  },
  {
   "cell_type": "markdown",
   "metadata": {},
   "source": [
    "# EXPERIMENTAL: Trade-off model by Scholten & Read (2010)"
   ]
  },
  {
   "cell_type": "code",
   "execution_count": null,
   "metadata": {},
   "outputs": [],
   "source": [
    "to = TradeOff()\n",
    "to.sample_posterior(data, nsamples=2000, target_accept=.95, tune=1000)\n",
    "plot_stuff(to, data)"
   ]
  },
  {
   "cell_type": "markdown",
   "metadata": {},
   "source": [
    "# Experimental: ITCH model"
   ]
  },
  {
   "cell_type": "code",
   "execution_count": null,
   "metadata": {},
   "outputs": [],
   "source": [
    "itch = ITCH()\n",
    "itch.sample_posterior(data, nsamples=2000, target_accept=.95, tune=2000)\n",
    "plot_stuff(itch, data)"
   ]
  },
  {
   "cell_type": "markdown",
   "metadata": {},
   "source": [
    "# DRIFT model, Read et al (2013)\n",
    "\n",
    "**WARNING:** This model breaks when `reward A > reward B`"
   ]
  },
  {
   "cell_type": "code",
   "execution_count": null,
   "metadata": {
    "scrolled": true
   },
   "outputs": [],
   "source": [
    "drift = DRIFT()\n",
    "drift.sample_posterior(data, nsamples=2000, target_accept=.95, tune=2000)\n",
    "plot_stuff(drift, data)"
   ]
  }
 ],
 "metadata": {
  "kernelspec": {
   "display_name": "Python 3",
   "language": "python",
   "name": "python3"
  },
  "language_info": {
   "codemirror_mode": {
    "name": "ipython",
    "version": 3
   },
   "file_extension": ".py",
   "mimetype": "text/x-python",
   "name": "python",
   "nbconvert_exporter": "python",
   "pygments_lexer": "ipython3",
   "version": "3.6.3"
  }
 },
 "nbformat": 4,
 "nbformat_minor": 2
}
